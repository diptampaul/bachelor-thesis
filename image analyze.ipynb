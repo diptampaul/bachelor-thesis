{
 "cells": [
  {
   "cell_type": "markdown",
   "source": [
    "## Importing Libraries and Dependencies"
   ],
   "metadata": {}
  },
  {
   "cell_type": "code",
   "execution_count": 3,
   "source": [
    "from telegram.ext import *\r\n",
    "from io import BytesIO\r\n",
    "import cv2\r\n",
    "import numpy as np\r\n",
    "import tensorflow as tf"
   ],
   "outputs": [],
   "metadata": {}
  },
  {
   "cell_type": "markdown",
   "source": [
    "## Token"
   ],
   "metadata": {}
  },
  {
   "cell_type": "code",
   "execution_count": 43,
   "source": [
    "with open('file.txt','r') as f:\r\n",
    "    file = f.read()\r\n",
    "\r\n",
    "TOKEN = file.split('\\n')[2].split(':')[-2] + ':' + file.split('\\n')[2].split(':')[-1]"
   ],
   "outputs": [
    {
     "output_type": "execute_result",
     "data": {
      "text/plain": [
       "'1948474802:AAHVmdDaxejlXycJISVUEDr9XtcjmlSE-3g'"
      ]
     },
     "metadata": {},
     "execution_count": 43
    }
   ],
   "metadata": {}
  },
  {
   "cell_type": "markdown",
   "source": [
    "## Custom Functions"
   ],
   "metadata": {}
  },
  {
   "cell_type": "code",
   "execution_count": 49,
   "source": [
    "def start(update, context):\r\n",
    "    update.message.reply_text(\"Hello! Welcome to Diptam's Bot\")\r\n",
    "\r\n",
    "def help(update, context):\r\n",
    "    update.message.reply_text(\"\"\"\r\n",
    "    The following commands are available : \r\n",
    "\r\n",
    "    /start  -> Welcome message\r\n",
    "    /help  -> To list out all the commands\r\n",
    "    /train  -> To train the neural network\r\n",
    "    \"\"\")"
   ],
   "outputs": [],
   "metadata": {}
  },
  {
   "cell_type": "markdown",
   "source": [
    "## classify images functions"
   ],
   "metadata": {}
  },
  {
   "cell_type": "code",
   "execution_count": 20,
   "source": [
    "(X_train, Y_train),(x_test,y_test) = tf.keras.datasets.cifar10.load_data()"
   ],
   "outputs": [
    {
     "output_type": "stream",
     "name": "stdout",
     "text": [
      "Downloading data from https://www.cs.toronto.edu/~kriz/cifar-10-python.tar.gz\n",
      "170500096/170498071 [==============================] - 359s 2us/step\n",
      "170508288/170498071 [==============================] - 359s 2us/step\n"
     ]
    }
   ],
   "metadata": {}
  },
  {
   "cell_type": "code",
   "execution_count": 50,
   "source": [
    "#print(X_train/250)\r\n",
    "X_train , x_test = X_train/255, x_test/255  #To make the colors in the range of 0,1\r\n",
    "class_names = ['Airplane', 'Automobile', 'Bird', 'Cat', 'Deer', 'Dog', 'Frog', 'Horse', 'Ship', 'Truck']"
   ],
   "outputs": [],
   "metadata": {}
  },
  {
   "cell_type": "code",
   "execution_count": 51,
   "source": [
    "model = tf.keras.models.Sequential()\r\n",
    "model.add(tf.keras.layers.Conv2D(32, (3,3), activation='relu', input_shape = (32,32,3)))\r\n",
    "model.add(tf.keras.layers.MaxPooling2D((2, 2)))\r\n",
    "model.add(tf.keras.layers.Conv2D(64, (3,3), activation='relu'))\r\n",
    "model.add(tf.keras.layers.MaxPooling2D((2, 2)))\r\n",
    "model.add(tf.keras.layers.Conv2D(64, (3,3), activation='relu'))\r\n",
    "model.add(tf.keras.layers.Flatten())\r\n",
    "model.add(tf.keras.layers.Dense(64, activation='relu'))\r\n",
    "model.add(tf.keras.layers.Dense(10, activation='softmax'))"
   ],
   "outputs": [],
   "metadata": {}
  },
  {
   "cell_type": "code",
   "execution_count": 61,
   "source": [
    "def train(update, context):\r\n",
    "    update.message.reply_text(\"Model is being trained ... \")\r\n",
    "    model.compile(optimizer='adam', loss='sparse_categorical_crossentropy', metrics=['accuracy'])\r\n",
    "    model.fit(X_train, Y_train, epochs=10, validation_data=(x_test,y_test))\r\n",
    "    model.save('cidar_classifier.model')\r\n",
    "    update.message.reply_text(\"Model trained successfully, You can now send a photo!\")\r\n",
    "\r\n",
    "def handle_message(update, context):\r\n",
    "    update.message.reply_text(\"Please train the model and send a picture\")\r\n",
    "\r\n",
    "def handle_photo(update, context):\r\n",
    "    #Loading image\r\n",
    "    photo = context.bot.get_file(update.message.photo[-1].file_id)\r\n",
    "    photo.download('test.jpg')\r\n",
    "    f = BytesIO(photo.download_as_bytearray())\r\n",
    "    file_bytes = np.asarray(bytearray(f.read()), dtype=np.uint8)\r\n",
    "    #Loading image done\r\n",
    "\r\n",
    "    img = cv2.imdecode(file_bytes, cv2.IMREAD_COLOR)\r\n",
    "    img = cv2.cvtColor(img, cv2.COLOR_RGB2BGR)\r\n",
    "    img = cv2.resize(img, (32,32), interpolation=cv2.INTER_AREA)\r\n",
    "\r\n",
    "    prediction = model.predict(np.array([img / 255]))\r\n",
    "    print(prediction)\r\n",
    "    update.message.reply_text(f\"In this image I see a {class_names[np.argmax(prediction)]}\")\r\n",
    "    "
   ],
   "outputs": [],
   "metadata": {}
  },
  {
   "cell_type": "markdown",
   "source": [
    "## Command Handling"
   ],
   "metadata": {}
  },
  {
   "cell_type": "code",
   "execution_count": 62,
   "source": [
    "updater = Updater(TOKEN, use_context=True)\r\n",
    "disp = updater.dispatcher\r\n",
    "\r\n",
    "\r\n",
    "disp.add_handler(CommandHandler(\"start\", start))\r\n",
    "disp.add_handler(CommandHandler(\"help\", help))\r\n",
    "disp.add_handler(CommandHandler(\"train\", train))\r\n",
    "disp.add_handler(MessageHandler(Filters.text, handle_message))\r\n",
    "disp.add_handler(MessageHandler(Filters.photo, handle_photo))\r\n",
    "\r\n",
    "\r\n",
    "updater.start_polling()\r\n",
    "updater.idle()"
   ],
   "outputs": [
    {
     "output_type": "stream",
     "name": "stdout",
     "text": [
      "[[0.10290009 0.11099565 0.08910169 0.09818514 0.10456085 0.09148056\n",
      "  0.09738978 0.09573231 0.10835797 0.10129599]]\n",
      "[[0.10394573 0.11599264 0.08810871 0.09575392 0.09893893 0.08599622\n",
      "  0.09038806 0.09825335 0.12196556 0.10065687]]\n"
     ]
    }
   ],
   "metadata": {}
  }
 ],
 "metadata": {
  "orig_nbformat": 4,
  "language_info": {
   "name": "python",
   "version": "3.9.0",
   "mimetype": "text/x-python",
   "codemirror_mode": {
    "name": "ipython",
    "version": 3
   },
   "pygments_lexer": "ipython3",
   "nbconvert_exporter": "python",
   "file_extension": ".py"
  },
  "kernelspec": {
   "name": "python3",
   "display_name": "Python 3.9.0 64-bit ('env': venv)"
  },
  "interpreter": {
   "hash": "cfab843f8142eeb301a1ec7145090306875e86e17f513d3a690add7ddafa17dd"
  }
 },
 "nbformat": 4,
 "nbformat_minor": 2
}